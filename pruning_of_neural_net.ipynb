{
 "cells": [
  {
   "cell_type": "markdown",
   "metadata": {},
   "source": [
    "## IMportant Imports "
   ]
  },
  {
   "cell_type": "code",
   "execution_count": 42,
   "metadata": {},
   "outputs": [],
   "source": [
    "import numpy as np\n",
    "import pandas as pd\n",
    "from keras.layers import Conv2D, MaxPooling2D, Dense, Input, Dropout, Activation, Flatten\n",
    "from keras.models import Sequential\n",
    "from keras.optimizers import Adam\n",
    "import matplotlib.pyplot as plt\n",
    "from skimage.io import imshow\n",
    "from keras.models import model_from_json\n",
    "import tensorflow as tf\n",
    "from keras import backend as K"
   ]
  },
  {
   "cell_type": "markdown",
   "metadata": {},
   "source": [
    "## Reading Mnst fashin Data"
   ]
  },
  {
   "cell_type": "code",
   "execution_count": 43,
   "metadata": {},
   "outputs": [
    {
     "name": "stderr",
     "output_type": "stream",
     "text": [
      "C:\\Users\\BaadRoR\\Anaconda3\\envs\\myenv\\lib\\site-packages\\ipykernel_launcher.py:4: FutureWarning: Method .as_matrix will be removed in a future version. Use .values instead.\n",
      "  after removing the cwd from sys.path.\n",
      "C:\\Users\\BaadRoR\\Anaconda3\\envs\\myenv\\lib\\site-packages\\ipykernel_launcher.py:5: FutureWarning: Method .as_matrix will be removed in a future version. Use .values instead.\n",
      "  \"\"\"\n"
     ]
    }
   ],
   "source": [
    "#Read CSV\n",
    "csv = pd.read_csv('fashion-mnist_train.csv')\n",
    "#Separate into matricies\n",
    "X_train = csv.iloc[:,1:786].as_matrix()\n",
    "Y_train = csv.iloc[:,0].as_matrix()"
   ]
  },
  {
   "cell_type": "code",
   "execution_count": null,
   "metadata": {},
   "outputs": [],
   "source": []
  },
  {
   "cell_type": "code",
   "execution_count": 44,
   "metadata": {},
   "outputs": [],
   "source": [
    "# reshaping image to 2D image\n",
    "X_train_imgs = np.zeros([X_train.shape[0],28,28])\n",
    "for i in range(X_train.shape[0]):\n",
    "    img = X_train[i,:].reshape([28,28])/255.\n",
    "    X_train_imgs[i] = img"
   ]
  },
  {
   "cell_type": "code",
   "execution_count": null,
   "metadata": {},
   "outputs": [],
   "source": [
    "One Hot encoding for classes "
   ]
  },
  {
   "cell_type": "code",
   "execution_count": 45,
   "metadata": {},
   "outputs": [],
   "source": [
    "Y_train_oh = np.zeros([Y_train.shape[0],10])\n",
    "for i in range(Y_train.shape[0]):\n",
    "    oh = np.zeros([10])\n",
    "    oh[int(Y_train[i])] = 1.\n",
    "    Y_train_oh[i] = oh"
   ]
  },
  {
   "cell_type": "code",
   "execution_count": 15,
   "metadata": {},
   "outputs": [
    {
     "data": {
      "image/png": "[encoded data removed]",
      "text/plain": [
       "<Figure size 432x288 with 1 Axes>"
      ]
     },
     "metadata": {
      "needs_background": "light"
     },
     "output_type": "display_data"
    },
    {
     "name": "stdout",
     "output_type": "stream",
     "text": [
      "This is: Coat\n"
     ]
    }
   ],
   "source": [
    "ix = 12345 #0-41999\n",
    "imshow(np.squeeze(X_train_imgs[ix]))\n",
    "plt.show()\n",
    "label = ['T-shirt/top','Trouser','Pullover','Dress','Coat','Sandal','Shirt','Sneaker','Bag','Ankle Boot']\n",
    "print ('This is:',label[int(Y_train[ix])])"
   ]
  },
  {
   "cell_type": "code",
   "execution_count": 16,
   "metadata": {},
   "outputs": [
    {
     "data": {
      "text/plain": [
       "(60000, 28, 28)"
      ]
     },
     "execution_count": 16,
     "metadata": {},
     "output_type": "execute_result"
    }
   ],
   "source": [
    "X_train_imgs.shape"
   ]
  },
  {
   "cell_type": "markdown",
   "metadata": {},
   "source": [
    "## Weight prune function"
   ]
  },
  {
   "cell_type": "code",
   "execution_count": 46,
   "metadata": {},
   "outputs": [],
   "source": [
    "def weight_prune(weight, k):\n",
    "    weight_temp = weight\n",
    "    weight_temp = np.absolute(weight_temp)\n",
    "    weight_temp = np.sort(weight_temp, axis = None)\n",
    "    threshold = weight_temp[int(k*weight_temp.size)] #Finding the threshold weight\n",
    "    weight[(weight < threshold) & (weight > -threshold)] = 0 #Setting the lowest k% weights to 0\n",
    "    b = []\n",
    "    b.append(weight)\n",
    "    return b"
   ]
  },
  {
   "cell_type": "markdown",
   "metadata": {},
   "source": [
    "## Unit prune function"
   ]
  },
  {
   "cell_type": "code",
   "execution_count": 47,
   "metadata": {},
   "outputs": [],
   "source": [
    "def unit_prune(weight, k):\n",
    "    weight_temp = np.linalg.norm(weight, axis=0) #Finding norm of each column\n",
    "    sorted = np.sort(weight_temp)\n",
    "    threshold = sorted[int(k*sorted.size)] #Finding threshold norm\n",
    "    j=0\n",
    "    for i in weight_temp:\n",
    "        if(i<threshold):\n",
    "            weight[:, j] = 0 #set jth column in weight matrix to 0 because it's norm is less than that of threshold\n",
    "        j=j+1\n",
    "    b = []\n",
    "    b.append(weight)\n",
    "    return b\n"
   ]
  },
  {
   "cell_type": "markdown",
   "metadata": {},
   "source": [
    "Creating Neural Network with dense layers[1000,1000,500,200] and with the activation\n",
    "function RELU and softmax probability function"
   ]
  },
  {
   "cell_type": "code",
   "execution_count": 48,
   "metadata": {},
   "outputs": [
    {
     "name": "stdout",
     "output_type": "stream",
     "text": [
      "_________________________________________________________________\n",
      "Layer (type)                 Output Shape              Param #   \n",
      "=================================================================\n",
      "flatten_12 (Flatten)         (None, 784)               0         \n",
      "_________________________________________________________________\n",
      "dense_46 (Dense)             (None, 1000)              784000    \n",
      "_________________________________________________________________\n",
      "dense_47 (Dense)             (None, 1000)              1000000   \n",
      "_________________________________________________________________\n",
      "dense_48 (Dense)             (None, 500)               500000    \n",
      "_________________________________________________________________\n",
      "dense_49 (Dense)             (None, 200)               100000    \n",
      "_________________________________________________________________\n",
      "dense_50 (Dense)             (None, 10)                2000      \n",
      "=================================================================\n",
      "Total params: 2,386,000\n",
      "Trainable params: 2,386,000\n",
      "Non-trainable params: 0\n",
      "_________________________________________________________________\n"
     ]
    }
   ],
   "source": [
    "model = Sequential([\n",
    "    Flatten(input_shape=(28, 28)),\n",
    "    Dense(1000, activation=tf.nn.relu, use_bias=False),\n",
    "    Dense(1000, activation=tf.nn.relu, use_bias=False),\n",
    "    Dense(500, activation=tf.nn.relu, use_bias=False),\n",
    "  Dense(200, activation=tf.nn.relu, use_bias=False),\n",
    "    Dense(10, activation=tf.nn.softmax, use_bias=False)\n",
    "])\n",
    "adam = Adam()\n",
    "model.compile(loss='categorical_crossentropy', optimizer=adam, metrics=['accuracy'])\n",
    "model.summary()\n"
   ]
  },
  {
   "cell_type": "markdown",
   "metadata": {},
   "source": [
    "Training on the data and saving the trained model to load saved model to anytime"
   ]
  },
  {
   "cell_type": "code",
   "execution_count": 49,
   "metadata": {},
   "outputs": [
    {
     "name": "stdout",
     "output_type": "stream",
     "text": [
      "Epoch 1/10\n",
      "41000/41000 [==============================] - 127s 3ms/step - loss: 0.5362 - acc: 0.8052\n",
      "Epoch 2/10\n",
      "41000/41000 [==============================] - 127s 3ms/step - loss: 0.4100 - acc: 0.8536\n",
      "Epoch 3/10\n",
      "41000/41000 [==============================] - 127s 3ms/step - loss: 0.3685 - acc: 0.8675\n",
      "Epoch 4/10\n",
      "41000/41000 [==============================] - 124s 3ms/step - loss: 0.3425 - acc: 0.8769\n",
      "Epoch 5/10\n",
      "41000/41000 [==============================] - 127s 3ms/step - loss: 0.3181 - acc: 0.8830\n",
      "Epoch 6/10\n",
      "41000/41000 [==============================] - 127s 3ms/step - loss: 0.3019 - acc: 0.8906 2s - loss:\n",
      "Epoch 7/10\n",
      "41000/41000 [==============================] - 129s 3ms/step - loss: 0.2907 - acc: 0.8940\n",
      "Epoch 8/10\n",
      "41000/41000 [==============================] - 133s 3ms/step - loss: 0.2768 - acc: 0.8970 5 - ETA: 2s - loss\n",
      "Epoch 9/10\n",
      "41000/41000 [==============================] - 151s 4ms/step - loss: 0.2693 - acc: 0.9013\n",
      "Epoch 10/10\n",
      "41000/41000 [==============================] - 165s 4ms/step - loss: 0.2579 - acc: 0.9030\n",
      "Saved model to disk\n"
     ]
    }
   ],
   "source": [
    "model.fit(X_train_imgs[:41000], Y_train_oh[:41000], epochs=10)\n",
    "model_json = model.to_json()\n",
    "with open(\"model.json\", \"w\") as json_file:\n",
    "    json_file.write(model_json)\n",
    "model.save_weights(\"model.h5\")\n",
    "print(\"Saved model to disk\")"
   ]
  },
  {
   "cell_type": "code",
   "execution_count": 77,
   "metadata": {},
   "outputs": [
    {
     "name": "stdout",
     "output_type": "stream",
     "text": [
      "18999/18999 [==============================] - 6s 336us/step\n",
      "18999/18999 [==============================] - 5s 271us/step\n",
      "18999/18999 [==============================] - 5s 272us/step\n",
      "18999/18999 [==============================] - 5s 267us/step\n",
      "18999/18999 [==============================] - 5s 263us/step\n",
      "18999/18999 [==============================] - 5s 264us/step\n",
      "18999/18999 [==============================] - 5s 265us/step\n",
      "18999/18999 [==============================] - 5s 259us/step\n",
      "18999/18999 [==============================] - 5s 263us/step\n",
      "18999/18999 [==============================] - 5s 261us/step\n"
     ]
    },
    {
     "data": {
      "image/png": "[encoded data removed]",
      "text/plain": [
       "<Figure size 432x288 with 1 Axes>"
      ]
     },
     "metadata": {
      "needs_background": "light"
     },
     "output_type": "display_data"
    }
   ],
   "source": [
    "percentage = [0, 25, 50, 60, 70, 80, 90, 95, 97, 99]\n",
    "accuracy_1=[]\n",
    "sparsity_1=[]\n",
    "results1=[]\n",
    "for k2 in percentage:\n",
    "    model.load_weights(\"model.h5\")\n",
    "    k = k2*0.01\n",
    "    for i in range(1,5):\n",
    "        weight = model.layers[i].get_weights()[0]\n",
    "        model.layers[i].set_weights(unit_prune(weight, k))\n",
    "    score, acc = model.evaluate(X_train_imgs[41001:], Y_train_oh[41001:])\n",
    "    results1.append(\"k = \" + str(k) + \" accuracy = \" + str(acc))\n",
    "    sparsity_1 .append(k*100)\n",
    "    accuracy_1.append(acc*100)\n",
    "plt.plot(sparsity_1,accuracy_1)\n",
    "plt.xlabel('Sparsity %')\n",
    "plt.ylabel('Accuracy %')\n",
    "plt.title('unit Pruning')\n",
    "plt.show()"
   ]
  },
  {
   "cell_type": "code",
   "execution_count": 83,
   "metadata": {},
   "outputs": [
    {
     "data": {
      "text/plain": [
       "['k = 0.0 accuracy = 0.8886257171681056',\n",
       " 'k = 0.25 accuracy = 0.8897310385008073',\n",
       " 'k = 0.5 accuracy = 0.8907310911351565',\n",
       " 'k = 0.6 accuracy = 0.8891520606598683',\n",
       " 'k = 0.7000000000000001 accuracy = 0.8752565924647834',\n",
       " 'k = 0.8 accuracy = 0.646770882656075',\n",
       " 'k = 0.9 accuracy = 0.44128638349073085',\n",
       " 'k = 0.9500000000000001 accuracy = 0.18190431075319755',\n",
       " 'k = 0.97 accuracy = 0.07242486446753127',\n",
       " 'k = 0.99 accuracy = 0.10847939364916023']"
      ]
     },
     "execution_count": 83,
     "metadata": {},
     "output_type": "execute_result"
    }
   ],
   "source": [
    "results1"
   ]
  },
  {
   "cell_type": "code",
   "execution_count": 74,
   "metadata": {},
   "outputs": [
    {
     "name": "stdout",
     "output_type": "stream",
     "text": [
      "18999/18999 [==============================] - 6s 295us/step\n",
      "18999/18999 [==============================] - 5s 289us/step\n",
      "18999/18999 [==============================] - 6s 298us/step\n",
      "18999/18999 [==============================] - 6s 308us/step\n",
      "18999/18999 [==============================] - 6s 331us/step\n",
      "18999/18999 [==============================] - 6s 305us/step\n",
      "18999/18999 [==============================] - 6s 297us/step\n",
      "18999/18999 [==============================] - 5s 272us/step\n",
      "18999/18999 [==============================] - 5s 269us/step\n",
      "18999/18999 [==============================] - 5s 265us/step\n"
     ]
    },
    {
     "data": {
      "image/png": "[encoded data removed]",
      "text/plain": [
       "<Figure size 432x288 with 1 Axes>"
      ]
     },
     "metadata": {
      "needs_background": "light"
     },
     "output_type": "display_data"
    }
   ],
   "source": [
    "percentage = [0, 25, 50, 60, 70, 80, 90, 95, 97, 99]\n",
    "accuracy_=[]\n",
    "sparsity_=[]\n",
    "results=[]\n",
    "for k2 in percentage:\n",
    "    k = k2*0.01\n",
    "    model.load_weights(\"model.h5\")\n",
    "    for i in range(1,5):\n",
    "        weight = model.layers[i].get_weights()[0]\n",
    "        model.layers[i].set_weights(weight_prune(weight, k))\n",
    "    score, acc = model.evaluate(X_train_imgs[41001:], Y_train_oh[41001:])\n",
    "    results.append(\"k = \" + str(k) + \" accuracy = \" + str(acc))\n",
    "    sparsity_.append(k*100)\n",
    "    accuracy_.append(acc*100)\n",
    "plt.plot(sparsity_,accuracy_)\n",
    "plt.xlabel('Sparsity %')\n",
    "plt.ylabel('Accuracy %')\n",
    "plt.title('weights Pruning')\n",
    "plt.show()"
   ]
  },
  {
   "cell_type": "code",
   "execution_count": 75,
   "metadata": {},
   "outputs": [
    {
     "data": {
      "text/plain": [
       "['k = 0.0 accuracy = 0.8886257171681056',\n",
       " 'k = 0.25 accuracy = 0.8888888889139869',\n",
       " 'k = 0.5 accuracy = 0.8892573293582208',\n",
       " 'k = 0.6 accuracy = 0.8876256645212074',\n",
       " 'k = 0.7000000000000001 accuracy = 0.8873098584261497',\n",
       " 'k = 0.8 accuracy = 0.8797831464813938',\n",
       " 'k = 0.9 accuracy = 0.8189904731953481',\n",
       " 'k = 0.9500000000000001 accuracy = 0.5001842202503523',\n",
       " 'k = 0.97 accuracy = 0.36928259384896267',\n",
       " 'k = 0.99 accuracy = 0.16264013896252497']"
      ]
     },
     "execution_count": 75,
     "metadata": {},
     "output_type": "execute_result"
    }
   ],
   "source": [
    "results"
   ]
  },
  {
   "cell_type": "code",
   "execution_count": null,
   "metadata": {},
   "outputs": [],
   "source": []
  }
 ],
 "metadata": {
  "kernelspec": {
   "display_name": "Python 3",
   "language": "python",
   "name": "python3"
  },
  "language_info": {
   "codemirror_mode": {
    "name": "ipython",
    "version": 3
   },
   "file_extension": ".py",
   "mimetype": "text/x-python",
   "name": "python",
   "nbconvert_exporter": "python",
   "pygments_lexer": "ipython3",
   "version": "3.6.7"
  }
 },
 "nbformat": 4,
 "nbformat_minor": 2
}
